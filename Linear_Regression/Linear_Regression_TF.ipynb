{
 "cells": [
  {
   "cell_type": "markdown",
   "metadata": {},
   "source": [
    "# Linear Regression"
   ]
  },
  {
   "cell_type": "code",
   "execution_count": 1,
   "metadata": {},
   "outputs": [
    {
     "name": "stdout",
     "output_type": "stream",
     "text": [
      "hello\n"
     ]
    }
   ],
   "source": [
    "import numpy as np\n",
    "import matplotlib.pyplot as plt\n",
    "import tensorflow as tf\n",
    "\n",
    "learning_rate = 0.01\n",
    "training_epochs = 800\n",
    "display_step = 50\n",
    "\n",
    "print(\"hello\")"
   ]
  },
  {
   "cell_type": "code",
   "execution_count": 2,
   "metadata": {},
   "outputs": [
    {
     "data": {
      "image/png": "[encoded data removed]",
      "text/plain": [
       "<matplotlib.figure.Figure at 0x1b6b507c6d8>"
      ]
     },
     "metadata": {},
     "output_type": "display_data"
    }
   ],
   "source": [
    "X_data = np.arange(100,step=2)\n",
    "Y_data = X_data + 20 * np.sin(X_data/10)\n",
    "plt.scatter(X_data, Y_data, s=1)\n",
    "plt.show()"
   ]
  },
  {
   "cell_type": "code",
   "execution_count": 3,
   "metadata": {
    "collapsed": true
   },
   "outputs": [],
   "source": [
    "# we create a placeholder for the tf graph inputs\n",
    "X = tf.placeholder(\"float\")\n",
    "Y = tf.placeholder(\"float\")\n",
    "\n",
    "n_samples = X_data.shape[0]"
   ]
  },
  {
   "cell_type": "code",
   "execution_count": 4,
   "metadata": {
    "collapsed": true
   },
   "outputs": [],
   "source": [
    "# we randomly initialise the weight and and bias\n",
    "W = tf.Variable(np.random.randn(), name=\"weight\")\n",
    "b = tf.Variable(np.random.randn(), name=\"bias\")"
   ]
  },
  {
   "cell_type": "code",
   "execution_count": 5,
   "metadata": {
    "collapsed": true
   },
   "outputs": [],
   "source": [
    "# construct a linear model\n",
    "pred = tf.add(tf.multiply(X, W), b)"
   ]
  },
  {
   "cell_type": "code",
   "execution_count": 6,
   "metadata": {
    "collapsed": true
   },
   "outputs": [],
   "source": [
    "# compute mean squared error\n",
    "cost = tf.reduce_sum( tf.pow(pred-Y, 2) ) / (2*n_samples)\n",
    "\n",
    "# initialise gradient descent and tell it to minimize cost\n",
    "optimizer = tf.train.GradientDescentOptimizer(learning_rate).minimize(cost)"
   ]
  },
  {
   "cell_type": "code",
   "execution_count": 7,
   "metadata": {
    "collapsed": true
   },
   "outputs": [],
   "source": [
    "# initialise all variables\n",
    "init = tf.global_variables_initializer()\n",
    "\n",
    "biases = []\n",
    "costs = []\n",
    "weights = []"
   ]
  },
  {
   "cell_type": "code",
   "execution_count": 8,
   "metadata": {},
   "outputs": [
    {
     "name": "stdout",
     "output_type": "stream",
     "text": [
      "Epoch: 0001 cost= 125.057884216 W= 0.909294 b= -0.202137\n",
      "Epoch: 0051 cost= 121.760940552 W= 0.899802 b= 0.737442\n",
      "Epoch: 0101 cost= 118.986091614 W= 0.891048 b= 1.60403\n",
      "Epoch: 0151 cost= 116.653381348 W= 0.882974 b= 2.40328\n",
      "Epoch: 0201 cost= 114.694427490 W= 0.875527 b= 3.14045\n",
      "Epoch: 0251 cost= 113.051345825 W= 0.868659 b= 3.82034\n",
      "Epoch: 0301 cost= 111.675315857 W= 0.862324 b= 4.4474\n",
      "Epoch: 0351 cost= 110.524734497 W= 0.856482 b= 5.02575\n",
      "Epoch: 0401 cost= 109.564407349 W= 0.851093 b= 5.55917\n",
      "Epoch: 0451 cost= 108.764358521 W= 0.846123 b= 6.05115\n",
      "Epoch: 0501 cost= 108.099456787 W= 0.84154 b= 6.50491\n",
      "Epoch: 0551 cost= 107.548400879 W= 0.837312 b= 6.92341\n",
      "Epoch: 0601 cost= 107.092796326 W= 0.833413 b= 7.30939\n",
      "Epoch: 0651 cost= 106.717521667 W= 0.829816 b= 7.66539\n",
      "Epoch: 0701 cost= 106.409729004 W= 0.826499 b= 7.99373\n",
      "Epoch: 0751 cost= 106.158126831 W= 0.82344 b= 8.2966\n",
      "Optimization Finished!\n",
      "Training cost= 105.958 W= 0.820672 b= 8.57055 \n",
      "\n"
     ]
    },
    {
     "data": {
      "image/png": "[encoded data removed]",
      "text/plain": [
       "<matplotlib.figure.Figure at 0x1b6b65869b0>"
      ]
     },
     "metadata": {},
     "output_type": "display_data"
    }
   ],
   "source": [
    "# start the session\n",
    "with tf.Session() as sess:\n",
    "    \n",
    "    # initialise variables\n",
    "    sess.run(init)\n",
    "    \n",
    "    # loop through the number of epoch\n",
    "    for epoch in range(training_epochs):\n",
    "        \n",
    "        # we  our data together\n",
    "        for (x, y) in zip(X_data, Y_data):\n",
    "            \n",
    "            # feed the the x and y values into our optimiser\n",
    "            sess.run(optimizer, feed_dict={X: x, Y: y})\n",
    "            \n",
    "        biases.append(sess.run(b))\n",
    "        costs.append(sess.run(cost, feed_dict={X: X_data, Y:X_data}))\n",
    "        weights.append(sess.run(W))\n",
    "            \n",
    "        # this just prints the stats every 50 steps    \n",
    "        if (epoch+1) % display_step == 0:\n",
    "            c = sess.run(cost, feed_dict={X: X_data, Y:Y_data})\n",
    "            print(\"Epoch:\", '%04d' % (epoch+1), \"cost=\", \"{:.9f}\".format(c), \\\n",
    "                \"W=\", sess.run(W), \"b=\", sess.run(b))\n",
    "    \n",
    "    print(\"Optimization Finished!\")\n",
    "    training_cost = sess.run(cost, feed_dict={X: X_data, Y: Y_data})\n",
    "    print(\"Training cost=\", training_cost, \"W=\", sess.run(W), \"b=\", sess.run(b), '\\n')\n",
    "\n",
    "    #Graphic display\n",
    "    plt.plot(X_data, Y_data, 'ro', label='Original data')\n",
    "    plt.plot(X_data, sess.run(W) * X_data + sess.run(b), label='Fitted line')\n",
    "    plt.legend()\n",
    "    plt.show()"
   ]
  },
  {
   "cell_type": "code",
   "execution_count": 11,
   "metadata": {},
   "outputs": [
    {
     "data": {
      "image/png": "[encoded data removed]",
      "text/plain": [
       "<matplotlib.figure.Figure at 0x1b6a48c24e0>"
      ]
     },
     "metadata": {},
     "output_type": "display_data"
    }
   ],
   "source": [
    "ite = np.arange(100,step=2)\n",
    "plt.plot(weights,label=\"weights\")\n",
    "plt.plot(costs,label=\"costs\")\n",
    "plt.plot(biases,label=\"bias\")\n",
    "plt.legend()\n",
    "plt.show()"
   ]
  },
  {
   "cell_type": "code",
   "execution_count": null,
   "metadata": {
    "collapsed": true
   },
   "outputs": [],
   "source": []
  },
  {
   "cell_type": "code",
   "execution_count": null,
   "metadata": {
    "collapsed": true
   },
   "outputs": [],
   "source": []
  }
 ],
 "metadata": {
  "kernelspec": {
   "display_name": "Python 3",
   "language": "python",
   "name": "python3"
  },
  "language_info": {
   "codemirror_mode": {
    "name": "ipython",
    "version": 3
   },
   "file_extension": ".py",
   "mimetype": "text/x-python",
   "name": "python",
   "nbconvert_exporter": "python",
   "pygments_lexer": "ipython3",
   "version": "3.6.2"
  }
 },
 "nbformat": 4,
 "nbformat_minor": 2
}
