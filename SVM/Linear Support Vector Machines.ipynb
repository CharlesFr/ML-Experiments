{
 "cells": [
  {
   "cell_type": "markdown",
   "metadata": {},
   "source": [
    "# Linear Support Vector Machine\n",
    "## Large margin classifier\n",
    "\n",
    "SVM's are particularly well suited for complex classification with small to medium datasets.\n",
    "\n",
    "SVM is sensitive to scale, therefore we must make sure inputs are properly scaled.\n",
    "\n",
    "**Hard margin classification** we don't allow instances in the street, **Soft margin classification** we allow instances in the street (margin)."
   ]
  },
  {
   "cell_type": "code",
   "execution_count": 39,
   "metadata": {},
   "outputs": [
    {
     "data": {
      "text/plain": [
       "SVC(C=inf, cache_size=200, class_weight=None, coef0=0.0,\n",
       "  decision_function_shape='ovr', degree=3, gamma='auto', kernel='linear',\n",
       "  max_iter=-1, probability=False, random_state=None, shrinking=True,\n",
       "  tol=0.001, verbose=False)"
      ]
     },
     "execution_count": 39,
     "metadata": {},
     "output_type": "execute_result"
    }
   ],
   "source": [
    "import numpy as np\n",
    "from sklearn import datasets\n",
    "from sklearn.pipeline import Pipeline\n",
    "from sklearn.preprocessing import StandardScaler\n",
    "from sklearn.svm import SVC\n",
    "import matplotlib.pyplot as plt\n",
    "%matplotlib inline\n",
    "\n",
    "iris = datasets.load_iris()\n",
    "X = iris[\"data\"][:, (2,3)] # petal lenght, petal width\n",
    "y = iris[\"target\"] # Iris-Virginica\n",
    "\n",
    "setosa_or_versicolor = (y == 0) | (y == 1)\n",
    "X = X[setosa_or_versicolor]\n",
    "y = y[setosa_or_versicolor]\n",
    "\n",
    "svm_clf = SVC(kernel=\"linear\", C=float(\"inf\"))\n",
    "svm_clf.fit(X, y)"
   ]
  },
  {
   "cell_type": "code",
   "execution_count": 46,
   "metadata": {},
   "outputs": [
    {
     "data": {
      "text/plain": [
       "[0, 5.5, 0, 2]"
      ]
     },
     "execution_count": 46,
     "metadata": {},
     "output_type": "execute_result"
    },
    {
     "data": {
      "image/png": "[encoded data removed]",
      "text/plain": [
       "<matplotlib.figure.Figure at 0x2116101ae48>"
      ]
     },
     "metadata": {},
     "output_type": "display_data"
    }
   ],
   "source": [
    "\n",
    "x0 = np.linspace(0, 5.5, 200)\n",
    "pred1 = 5 * x0 - 20\n",
    "pred1 = x0 + 1.8\n",
    "\n",
    "w = svm_clf.coef_[0]\n",
    "b = svm_clf.intercept_[0]\n",
    "\n",
    "x0 = np.linspace(0, 5.5, 200)\n",
    "decision_boundary = -w[0]/w[1] * x0 - b/w[1]\n",
    "\n",
    "margin = 1/w[1]\n",
    "gutter_up = decision_boundary + margin\n",
    "gutter_down = decision_boundary - margin\n",
    "\n",
    "svs = svm_clf.support_vectors_\n",
    "plt.scatter(svs[:, 0], svs[:, 1], s=180, facecolors='#FFAAAA')\n",
    "plt.plot(x0, decision_boundary, \"k-\", linewidth=2)\n",
    "plt.plot(x0, gutter_up, \"k--\", linewidth=2)\n",
    "plt.plot(x0, gutter_down, \"k--\", linewidth=2)\n",
    "\n",
    "\n",
    "plt.plot(X[:, 0][y==1], X[:, 1][y==1], \"bs\", label=\"Iris-Versicolor\")\n",
    "plt.plot(X[:, 0][y==0], X[:, 1][y==0], \"yo\", label=\"Iris-Setosa\")\n",
    "plt.axis([0, 5.5, 0, 2])"
   ]
  },
  {
   "cell_type": "code",
   "execution_count": 54,
   "metadata": {},
   "outputs": [
    {
     "data": {
      "text/plain": [
       "array([[-1.01435952, -1.03824799],\n",
       "       [-1.01435952, -1.03824799],\n",
       "       [-1.08374115, -1.03824799],\n",
       "       [-0.94497788, -1.03824799],\n",
       "       [-1.01435952, -1.03824799],\n",
       "       [-0.80621461, -0.68329141],\n",
       "       [-1.01435952, -0.8607697 ],\n",
       "       [-0.94497788, -1.03824799],\n",
       "       [-1.01435952, -1.03824799],\n",
       "       [-0.94497788, -1.21572628],\n",
       "       [-0.94497788, -1.03824799],\n",
       "       [-0.87559625, -1.03824799],\n",
       "       [-1.01435952, -1.21572628],\n",
       "       [-1.22250442, -1.21572628],\n",
       "       [-1.15312279, -1.03824799],\n",
       "       [-0.94497788, -0.68329141],\n",
       "       [-1.08374115, -0.68329141],\n",
       "       [-1.01435952, -0.8607697 ],\n",
       "       [-0.80621461, -0.8607697 ],\n",
       "       [-0.94497788, -0.8607697 ],\n",
       "       [-0.80621461, -1.03824799],\n",
       "       [-0.94497788, -0.68329141],\n",
       "       [-1.29188606, -1.03824799],\n",
       "       [-0.80621461, -0.50581312],\n",
       "       [-0.66745134, -1.03824799],\n",
       "       [-0.87559625, -1.03824799],\n",
       "       [-0.87559625, -0.68329141],\n",
       "       [-0.94497788, -1.03824799],\n",
       "       [-1.01435952, -1.03824799],\n",
       "       [-0.87559625, -1.03824799],\n",
       "       [-0.87559625, -1.03824799],\n",
       "       [-0.94497788, -0.68329141],\n",
       "       [-0.94497788, -1.21572628],\n",
       "       [-1.01435952, -1.03824799],\n",
       "       [-0.94497788, -1.21572628],\n",
       "       [-1.15312279, -1.03824799],\n",
       "       [-1.08374115, -1.03824799],\n",
       "       [-0.94497788, -1.21572628],\n",
       "       [-1.08374115, -1.03824799],\n",
       "       [-0.94497788, -1.03824799],\n",
       "       [-1.08374115, -0.8607697 ],\n",
       "       [-1.08374115, -0.8607697 ],\n",
       "       [-1.08374115, -1.03824799],\n",
       "       [-0.87559625, -0.32833484],\n",
       "       [-0.66745134, -0.68329141],\n",
       "       [-1.01435952, -0.8607697 ],\n",
       "       [-0.87559625, -1.03824799],\n",
       "       [-1.01435952, -1.03824799],\n",
       "       [-0.94497788, -1.03824799],\n",
       "       [-1.01435952, -1.03824799],\n",
       "       [ 1.27523447,  1.09149148],\n",
       "       [ 1.1364712 ,  1.26896977],\n",
       "       [ 1.41399774,  1.26896977],\n",
       "       [ 0.78956302,  0.91401319],\n",
       "       [ 1.20585283,  1.26896977],\n",
       "       [ 1.1364712 ,  0.91401319],\n",
       "       [ 1.27523447,  1.44644806],\n",
       "       [ 0.30389157,  0.38157832],\n",
       "       [ 1.20585283,  0.91401319],\n",
       "       [ 0.72018138,  1.09149148],\n",
       "       [ 0.44265484,  0.38157832],\n",
       "       [ 0.92832629,  1.26896977],\n",
       "       [ 0.78956302,  0.38157832],\n",
       "       [ 1.27523447,  1.09149148],\n",
       "       [ 0.51203647,  0.91401319],\n",
       "       [ 1.06708956,  1.09149148],\n",
       "       [ 1.1364712 ,  1.26896977],\n",
       "       [ 0.85894465,  0.38157832],\n",
       "       [ 1.1364712 ,  1.26896977],\n",
       "       [ 0.72018138,  0.55905661],\n",
       "       [ 1.3446161 ,  1.80140464],\n",
       "       [ 0.78956302,  0.91401319],\n",
       "       [ 1.41399774,  1.26896977],\n",
       "       [ 1.27523447,  0.7365349 ],\n",
       "       [ 0.99770792,  0.91401319],\n",
       "       [ 1.06708956,  1.09149148],\n",
       "       [ 1.3446161 ,  1.09149148],\n",
       "       [ 1.48337938,  1.62392635],\n",
       "       [ 1.1364712 ,  1.26896977],\n",
       "       [ 0.44265484,  0.38157832],\n",
       "       [ 0.65079974,  0.55905661],\n",
       "       [ 0.58141811,  0.38157832],\n",
       "       [ 0.72018138,  0.7365349 ],\n",
       "       [ 1.55276101,  1.44644806],\n",
       "       [ 1.1364712 ,  1.26896977],\n",
       "       [ 1.1364712 ,  1.44644806],\n",
       "       [ 1.27523447,  1.26896977],\n",
       "       [ 1.06708956,  0.91401319],\n",
       "       [ 0.85894465,  0.91401319],\n",
       "       [ 0.78956302,  0.91401319],\n",
       "       [ 1.06708956,  0.7365349 ],\n",
       "       [ 1.20585283,  1.09149148],\n",
       "       [ 0.78956302,  0.7365349 ],\n",
       "       [ 0.30389157,  0.38157832],\n",
       "       [ 0.92832629,  0.91401319],\n",
       "       [ 0.92832629,  0.7365349 ],\n",
       "       [ 0.92832629,  0.91401319],\n",
       "       [ 0.99770792,  0.91401319],\n",
       "       [ 0.09574666,  0.55905661],\n",
       "       [ 0.85894465,  0.91401319]])"
      ]
     },
     "execution_count": 54,
     "metadata": {},
     "output_type": "execute_result"
    }
   ],
   "source": [
    "scl = StandardScaler()\n",
    "scl.fit_transform(X)"
   ]
  },
  {
   "cell_type": "code",
   "execution_count": 56,
   "metadata": {},
   "outputs": [
    {
     "ename": "AttributeError",
     "evalue": "'numpy.ndarray' object has no attribute 'range'",
     "output_type": "error",
     "traceback": [
      "\u001b[1;31m---------------------------------------------------------------------------\u001b[0m",
      "\u001b[1;31mAttributeError\u001b[0m                            Traceback (most recent call last)",
      "\u001b[1;32m<ipython-input-56-e503ed154818>\u001b[0m in \u001b[0;36m<module>\u001b[1;34m()\u001b[0m\n\u001b[1;32m----> 1\u001b[1;33m \u001b[0mX\u001b[0m\u001b[1;33m.\u001b[0m\u001b[0mrange\u001b[0m\u001b[1;33m\u001b[0m\u001b[0m\n\u001b[0m",
      "\u001b[1;31mAttributeError\u001b[0m: 'numpy.ndarray' object has no attribute 'range'"
     ]
    }
   ],
   "source": [
    "X."
   ]
  },
  {
   "cell_type": "code",
   "execution_count": null,
   "metadata": {
    "collapsed": true
   },
   "outputs": [],
   "source": []
  }
 ],
 "metadata": {
  "kernelspec": {
   "display_name": "Python 3",
   "language": "python",
   "name": "python3"
  },
  "language_info": {
   "codemirror_mode": {
    "name": "ipython",
    "version": 3
   },
   "file_extension": ".py",
   "mimetype": "text/x-python",
   "name": "python",
   "nbconvert_exporter": "python",
   "pygments_lexer": "ipython3",
   "version": "3.6.2"
  }
 },
 "nbformat": 4,
 "nbformat_minor": 2
}
